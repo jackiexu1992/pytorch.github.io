{
 "cells": [
  {
   "cell_type": "markdown",
   "id": "a5534b64",
   "metadata": {},
   "source": [
    "### This notebook requires a GPU runtime to run.\n",
    "### Please select the menu option \"Runtime\" -> \"Change runtime type\", select \"Hardware Accelerator\" -> \"GPU\" and click \"SAVE\"\n",
    "\n",
    "----------------------------------------------------------------------\n",
    "\n",
    "# Tacotron 2\n",
    "\n",
    "*Author: NVIDIA*\n",
    "\n",
    "**The Tacotron 2 model for generating mel spectrograms from text**\n",
    "\n",
    "<img src=\"https://pytorch.org/assets/images/tacotron2_diagram.png\" alt=\"alt\" width=\"50%\"/>\n",
    "\n",
    "\n",
    "\n",
    "### Model Description\n",
    "\n",
    "The Tacotron 2 and WaveGlow model form a text-to-speech system that enables user to synthesise a natural sounding speech from raw transcripts without any additional prosody information. The Tacotron 2 model produces mel spectrograms from input text using encoder-decoder architecture. WaveGlow (also available via torch.hub) is a flow-based model that consumes the mel spectrograms to generate speech.\n",
    "\n",
    "This implementation of Tacotron 2 model differs from the model described in the paper. Our implementation uses Dropout instead of Zoneout to regularize the LSTM layers.\n",
    "\n",
    "### Example\n",
    "\n",
    "In the example below:\n",
    "- pretrained Tacotron2 and Waveglow models are loaded from torch.hub\n",
    "- Given a tensor representation of the input text (\"Hello world, I missed you so much\"), Tacotron2 generates a Mel spectrogram as shown on the illustration\n",
    "- Waveglow generates sound given the mel spectrogram\n",
    "- the output sound is saved in an 'audio.wav' file\n",
    "\n",
    "To run the example you need some extra python packages installed.\n",
    "These are needed for preprocessing the text and audio, as well as for display and input / output."
   ]
  },
  {
   "cell_type": "code",
   "execution_count": null,
   "id": "25c54bf4",
   "metadata": {},
   "outputs": [],
   "source": [
    "%%bash\n",
    "pip install numpy scipy librosa unidecode inflect librosa\n",
    "apt-get update\n",
    "apt-get install -y libsndfile1"
   ]
  },
  {
   "cell_type": "markdown",
   "id": "6d5011e6",
   "metadata": {},
   "source": [
    "Load the Tacotron2 model pre-trained on [LJ Speech dataset](https://keithito.com/LJ-Speech-Dataset/) and prepare it for inference:"
   ]
  },
  {
   "cell_type": "code",
   "execution_count": null,
   "id": "0753dfc0",
   "metadata": {},
   "outputs": [],
   "source": [
    "import torch\n",
    "tacotron2 = torch.hub.load('NVIDIA/DeepLearningExamples:torchhub', 'nvidia_tacotron2', model_math='fp16')\n",
    "tacotron2 = tacotron2.to('cuda')\n",
    "tacotron2.eval()"
   ]
  },
  {
   "cell_type": "markdown",
   "id": "e3ee52ff",
   "metadata": {},
   "source": [
    "Load pretrained WaveGlow model"
   ]
  },
  {
   "cell_type": "code",
   "execution_count": null,
   "id": "212507a1",
   "metadata": {},
   "outputs": [],
   "source": [
    "waveglow = torch.hub.load('NVIDIA/DeepLearningExamples:torchhub', 'nvidia_waveglow', model_math='fp16')\n",
    "waveglow = waveglow.remove_weightnorm(waveglow)\n",
    "waveglow = waveglow.to('cuda')\n",
    "waveglow.eval()"
   ]
  },
  {
   "cell_type": "markdown",
   "id": "7c3ecfd2",
   "metadata": {},
   "source": [
    "Now, let's make the model say:"
   ]
  },
  {
   "cell_type": "code",
   "execution_count": null,
   "id": "4aae2364",
   "metadata": {},
   "outputs": [],
   "source": [
    "text = \"Hello world, I missed you so much.\""
   ]
  },
  {
   "cell_type": "markdown",
   "id": "57bbcb91",
   "metadata": {},
   "source": [
    "Format the input using utility methods"
   ]
  },
  {
   "cell_type": "code",
   "execution_count": null,
   "id": "afc7c840",
   "metadata": {},
   "outputs": [],
   "source": [
    "utils = torch.hub.load('NVIDIA/DeepLearningExamples:torchhub', 'nvidia_tts_utils')\n",
    "sequences, lengths = utils.prepare_input_sequence([text])"
   ]
  },
  {
   "cell_type": "markdown",
   "id": "d98cfa36",
   "metadata": {},
   "source": [
    "Run the chained models:"
   ]
  },
  {
   "cell_type": "code",
   "execution_count": null,
   "id": "a0a58d60",
   "metadata": {},
   "outputs": [],
   "source": [
    "with torch.no_grad():\n",
    "    mel, _, _ = tacotron2.infer(sequences, lengths)\n",
    "    audio = waveglow.infer(mel)\n",
    "audio_numpy = audio[0].data.cpu().numpy()\n",
    "rate = 22050"
   ]
  },
  {
   "cell_type": "markdown",
   "id": "6c2ea312",
   "metadata": {},
   "source": [
    "You can write it to a file and listen to it"
   ]
  },
  {
   "cell_type": "code",
   "execution_count": null,
   "id": "9f10ee09",
   "metadata": {},
   "outputs": [],
   "source": [
    "from scipy.io.wavfile import write\n",
    "write(\"audio.wav\", rate, audio_numpy)"
   ]
  },
  {
   "cell_type": "markdown",
   "id": "19f55465",
   "metadata": {},
   "source": [
    "Alternatively, play it right away in a notebook with IPython widgets"
   ]
  },
  {
   "cell_type": "code",
   "execution_count": null,
   "id": "43a18b88",
   "metadata": {},
   "outputs": [],
   "source": [
    "from IPython.display import Audio\n",
    "Audio(audio_numpy, rate=rate)"
   ]
  },
  {
   "cell_type": "markdown",
   "id": "746b1021",
   "metadata": {},
   "source": [
    "### Details\n",
    "For detailed information on model input and output, training recipies, inference and performance visit: [github](https://github.com/NVIDIA/DeepLearningExamples/tree/master/PyTorch/SpeechSynthesis/Tacotron2) and/or [NGC](https://ngc.nvidia.com/catalog/resources/nvidia:tacotron_2_and_waveglow_for_pytorch)\n",
    "\n",
    "### References\n",
    "\n",
    " - [Natural TTS Synthesis by Conditioning WaveNet on Mel Spectrogram Predictions](https://arxiv.org/abs/1712.05884)\n",
    " - [WaveGlow: A Flow-based Generative Network for Speech Synthesis](https://arxiv.org/abs/1811.00002)\n",
    " - [Tacotron2 and WaveGlow on NGC](https://ngc.nvidia.com/catalog/resources/nvidia:tacotron_2_and_waveglow_for_pytorch)\n",
    " - [Tacotron2 and Waveglow on github](https://github.com/NVIDIA/DeepLearningExamples/tree/master/PyTorch/SpeechSynthesis/Tacotron2)"
   ]
  }
 ],
 "metadata": {},
 "nbformat": 4,
 "nbformat_minor": 5
}
